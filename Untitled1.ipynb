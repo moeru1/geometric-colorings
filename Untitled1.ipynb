{
 "cells": [
  {
   "cell_type": "code",
   "execution_count": 1,
   "metadata": {},
   "outputs": [
    {
     "name": "stderr",
     "output_type": "stream",
     "text": [
      "/usr/lib/python3/dist-packages/sage/plot/graphics.py:2327: MatplotlibDeprecationWarning: \n",
      "The OldScalarFormatter class was deprecated in Matplotlib 3.3 and will be removed two minor releases later.\n",
      "  x_formatter = OldScalarFormatter()\n",
      "/usr/lib/python3/dist-packages/sage/plot/graphics.py:2352: MatplotlibDeprecationWarning: \n",
      "The OldScalarFormatter class was deprecated in Matplotlib 3.3 and will be removed two minor releases later.\n",
      "  y_formatter = OldScalarFormatter()\n"
     ]
    },
    {
     "data": {
      "image/png": "[encoded data removed]",
      "text/plain": [
       "Graphics object consisting of 1 graphics primitive"
      ]
     },
     "execution_count": 1,
     "metadata": {},
     "output_type": "execute_result"
    }
   ],
   "source": [
    "point([(4,6)])"
   ]
  },
  {
   "cell_type": "code",
   "execution_count": 17,
   "metadata": {},
   "outputs": [
    {
     "data": {
      "text/plain": [
       "[(0, 0),\n",
       " (1, 254),\n",
       " (255, 255),\n",
       " (254, 1),\n",
       " (0, 0),\n",
       " (69, 255),\n",
       " (108, 108),\n",
       " (255, 69)]"
      ]
     },
     "execution_count": 17,
     "metadata": {},
     "output_type": "execute_result"
    }
   ],
   "source": [
    "import numpy as np\n",
    "\n",
    "f = open(\"types/otypes04.b08\", \"r\")\n",
    "a = np.fromfile(f, dtype='>u1')\n",
    "p = []\n",
    "for i in range(0,len(a),2):\n",
    "    p.append((a[i], a[i+1]))\n",
    "p"
   ]
  },
  {
   "cell_type": "code",
   "execution_count": 2,
   "metadata": {},
   "outputs": [
    {
     "data": {
      "text/plain": [
       "'01'"
      ]
     },
     "execution_count": 2,
     "metadata": {},
     "output_type": "execute_result"
    }
   ],
   "source": [
    "\"{:02d}\".format(1)"
   ]
  },
  {
   "cell_type": "code",
   "execution_count": 31,
   "metadata": {},
   "outputs": [
    {
     "name": "stdout",
     "output_type": "stream",
     "text": [
      "2\n"
     ]
    },
    {
     "name": "stderr",
     "output_type": "stream",
     "text": [
      "/usr/lib/python3/dist-packages/sage/plot/graphics.py:2327: MatplotlibDeprecationWarning: \n",
      "The OldScalarFormatter class was deprecated in Matplotlib 3.3 and will be removed two minor releases later.\n",
      "  x_formatter = OldScalarFormatter()\n",
      "/usr/lib/python3/dist-packages/sage/plot/graphics.py:2352: MatplotlibDeprecationWarning: \n",
      "The OldScalarFormatter class was deprecated in Matplotlib 3.3 and will be removed two minor releases later.\n",
      "  y_formatter = OldScalarFormatter()\n"
     ]
    },
    {
     "data": {
      "image/png": "[encoded data removed]",
      "text/plain": [
       "Graphics object consisting of 1 graphics primitive"
      ]
     },
     "execution_count": 31,
     "metadata": {},
     "output_type": "execute_result"
    }
   ],
   "source": [
    "def read_otypes(n):\n",
    "    with open(\"types/otypes{:02d}.b08\".format(n), \"r\") as f:\n",
    "        points_all = np.fromfile(f, dtype='>u1')\n",
    "        n_ot = len(points_all)//(n*2) #numero de order types\n",
    "        print(n_ot)\n",
    "        graph_list = [[]]*n_ot\n",
    "        for i in range(n_ot):\n",
    "            points = []\n",
    "            for j in range(0, 2*n, 2):\n",
    "                points.append((points_all[i*(2*n) + j], points_all[i*(2*n) + j + 1]))\n",
    "            graph_list[i] = points\n",
    "        return graph_list\n",
    "    \n",
    "graph_list = read_otypes(4)\n",
    "point(graph_list[1])"
   ]
  },
  {
   "cell_type": "code",
   "execution_count": null,
   "metadata": {},
   "outputs": [],
   "source": [
    "i = 0 1\n",
    "(0,4) y (4,8)"
   ]
  }
 ],
 "metadata": {
  "kernelspec": {
   "display_name": "SageMath 9.5",
   "language": "sage",
   "name": "sagemath"
  },
  "language_info": {
   "codemirror_mode": {
    "name": "ipython",
    "version": 3
   },
   "file_extension": ".py",
   "mimetype": "text/x-python",
   "name": "python",
   "nbconvert_exporter": "python",
   "pygments_lexer": "ipython3",
   "version": "3.10.7"
  }
 },
 "nbformat": 4,
 "nbformat_minor": 4
}
