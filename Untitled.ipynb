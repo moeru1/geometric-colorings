{
 "cells": [
  {
   "cell_type": "code",
   "execution_count": 2,
   "metadata": {},
   "outputs": [],
   "source": [
    "import itertools as it"
   ]
  },
  {
   "cell_type": "code",
   "execution_count": 3,
   "metadata": {},
   "outputs": [],
   "source": [
    "def digit(c):\n",
    "    return char(c)"
   ]
  },
  {
   "cell_type": "code",
   "execution_count": 4,
   "metadata": {},
   "outputs": [],
   "source": [
    "#gráfica K_n  con vértice del 0 a n-1\n",
    "def D_Kn(n):\n",
    "    def edge_lbl(i, j):\n",
    "        return \"v\"+ str(i) +\" - \" + \"v\" + str(j)\n",
    "        #return frozenset((i,j))\n",
    "    \n",
    "    def edges_comb(i, j, lb, ub, DG):\n",
    "        edge1_lbl = edge_lbl(i,j)\n",
    "        for l in range(lb, ub+1):\n",
    "            for u in range(l+1, ub+1):\n",
    "                DG.add_edge(edge1_lbl, edge_lbl(l,u))\n",
    "\n",
    "    def right(i, j, n, DG):\n",
    "        #lb = min((i+1) % n, (j-1) % n)\n",
    "        #ub = max((i+1) % n, (j-1) % n)\n",
    "        edge1_lbl = edge_lbl(i,j)\n",
    "        for k in range(1, j-i):\n",
    "            for m in range(k+1, j-i):\n",
    "                a = min((i+k)%n, (i+m)%n)\n",
    "                b = max((i+k)%n, (i+m)%n)\n",
    "                DG.add_edge(edge1_lbl, edge_lbl(a, b))\n",
    "        #edges_comb(i, j, lb, ub, DG)\n",
    "\n",
    "    def left(i, j, n, DG):\n",
    "        edge1_lbl = edge_lbl(i,j)\n",
    "        for k in range(1, (n-2) - (j-i-1) + 1):\n",
    "            for m in range(k+1, (n-2) - (j-i-1) + 1):\n",
    "                a = min((j+k)%n, (j+m)%n)\n",
    "                b = max((j+k)%n, (j+m)%n)\n",
    "                DG.add_edge(edge1_lbl, edge_lbl(a, b))\n",
    "        #lb = min((j+1) % n, (i-1) % n)\n",
    "        #ub = max((j+1) % n, (i-1) % n)\n",
    "        #print(\"i j:\", i, j)\n",
    "        #print(\"lb ub:\", lb, ub)\n",
    "        #edges_comb(i, j, lb, ub, DG)\n",
    "\n",
    "    DG = Graph()\n",
    "    for v in range(n):\n",
    "        for w in range(v+1,n):\n",
    "            DG.add_vertex(edge_lbl(v,w))\n",
    "    \n",
    "    #cierre convexo\n",
    "    for i in range(n-1):\n",
    "        left(i, i+1, n, DG)\n",
    "    \n",
    "    for j in range(2, n-1):\n",
    "        left(0, j, n, DG)\n",
    "        right(0, j, n, DG)\n",
    "        \n",
    "    for i in range(1, n):\n",
    "        for j in range(i+2,n):\n",
    "            #right\n",
    "            #si no está el lado derecho vacio\n",
    "            #if ((i+1)%n - (j-1)%n)%n > 1:\n",
    "            right(i, j, n, DG)\n",
    "            \n",
    "            #left\n",
    "            left(i, j, n, DG)\n",
    "    return DG\n",
    "\n",
    "def deg(i,j,n):\n",
    "    left = (abs(i-j)-1)\n",
    "    right = (n-2)-(abs(i-j)-1)\n",
    "    return (n*(n-1)/2) - 1 - left*right - (n-2)*2\n",
    "\n",
    "def sum_edges(n):\n",
    "    suma = 0\n",
    "    for i in range(n):\n",
    "        for j in range(i+1,n):\n",
    "            suma = suma + deg(i,j,n)\n",
    "    return suma"
   ]
  },
  {
   "cell_type": "code",
   "execution_count": 5,
   "metadata": {},
   "outputs": [
    {
     "data": {
      "text/plain": [
       "2"
      ]
     },
     "execution_count": 5,
     "metadata": {},
     "output_type": "execute_result"
    }
   ],
   "source": [
    "W = D_Kn(15)\n",
    "W.plot()\n",
    "W.diameter()"
   ]
  },
  {
   "cell_type": "code",
   "execution_count": 6,
   "metadata": {},
   "outputs": [],
   "source": [
    "#Test de interseccion\n",
    "\n",
    "def orientation(p, q, r):\n",
    "    (px, py) = p\n",
    "    (qx, qy) = q\n",
    "    (rx, ry) = r\n",
    "    a = qx-px\n",
    "    b = rx-px\n",
    "    c = qy-py\n",
    "    d = ry-py\n",
    "    return a*d-b*c\n",
    "\n",
    "\n",
    "def ccw(a,b,c):\n",
    "    (ax, ay) = a\n",
    "    (bx, by) = b\n",
    "    (cx, cy) = c\n",
    "    return (cy-ay) * (bx-ax) > (by-ay) * (cx-ax)\n",
    "\n",
    "\n",
    "# Return true if line segments AB and CD intersect\n",
    "def intersect(s1, s2):\n",
    "    (a, b) = s1\n",
    "    (c, d) = s2\n",
    "    return ccw(a,c,d) != ccw(b,c,d) and ccw(a,b,c) != ccw(a,b,d)"
   ]
  },
  {
   "cell_type": "code",
   "execution_count": 7,
   "metadata": {},
   "outputs": [],
   "source": [
    "#criterio D(G)\n",
    "\n",
    "def ady_vertices(e1, e2):\n",
    "    (a, b) = e1\n",
    "    (c, d) = e2\n",
    "    #print(e1, e2)\n",
    "    return a == c or a == d or b == c or b == d\n",
    "\n",
    "def ady_D(s1, s2, e1, e2):\n",
    "    return not (intersect(s1, s2) or ady_vertices(e1, e2))"
   ]
  },
  {
   "cell_type": "code",
   "execution_count": 8,
   "metadata": {},
   "outputs": [],
   "source": [
    "#criterio Epp(G)\n",
    "\n",
    "def ady_Epp(s1, s2, e1, e2):\n",
    "    return intersect(s1, s2)"
   ]
  },
  {
   "cell_type": "code",
   "execution_count": 9,
   "metadata": {},
   "outputs": [],
   "source": [
    "#criterio W(G)\n",
    "\n",
    "def ady_W(s1, s2, e1, e2):\n",
    "    return not (ady_vertices(e1, e2)) or intersect(s1, s2) "
   ]
  },
  {
   "cell_type": "code",
   "execution_count": 10,
   "metadata": {},
   "outputs": [],
   "source": [
    "#class Edge(frozenset):\n",
    "#    def __init__(self, v, w):\n",
    "#        super().__init__((v,w))\n",
    "    \n",
    "#    def __str__(self):\n",
    "#        (v,w) = super()\n",
    "#        return \"{\" + str(v)+ \",\"+ str(w) +\"}\"\n",
    "    \n",
    "#    def __repr__(self):\n",
    "#        (v,w) = super()\n",
    "#        return \"{\" + str(v)+ \",\"+ str(w) +\"}\"\n",
    "def Edge(v, w):\n",
    "    return frozenset((v,w))\n",
    "\n",
    "# def D(V, E):\n",
    "#     DG = Graph()\n",
    "#     m = len(E)\n",
    "#     E_set = set(E)\n",
    "#     for i in range(m):\n",
    "#         for j in range(i+1, m):\n",
    "#             #print(E[i])\n",
    "#             #print(E[j])\n",
    "#             s1 = (V[E[i][0]], V[E[i][1]])\n",
    "#             s2 = (V[E[j][0]], V[E[j][1]])\n",
    "#             #print(s1, s2)\n",
    "#             if intersect(s1, s2) or ady(E[i], E[j]):\n",
    "#                 DG.add_edge(E[i], E[j])\n",
    "#     return DG.complement()\n",
    "\n",
    "def D(V, E):\n",
    "    return T(V, E, ady_D)\n",
    "\n",
    "#grafica asociada T(V, E, ady) de la grafica G=(V,E) usando el criterio de adyacencia ady\n",
    "def T(V, E, ady):\n",
    "    DG = Graph()\n",
    "    m = len(E)\n",
    "    E_set = set(E)\n",
    "    for i in range(m):\n",
    "        #aseguramos que agregamos todos los vertices\n",
    "        DG.add_vertex(E[i])\n",
    "        for j in range(i+1, m):\n",
    "            #print(E[i])\n",
    "            #print(E[j])\n",
    "            s1 = (V[E[i][0]], V[E[i][1]])\n",
    "            s2 = (V[E[j][0]], V[E[j][1]])\n",
    "            #print(s1, s2)\n",
    "            #if intersect(s1, s2) or ady(E[i], E[j]):\n",
    "            if ady(s1, s2, E[i], E[j]):\n",
    "                DG.add_edge(E[i], E[j])\n",
    "    return DG\n",
    "    \n"
   ]
  },
  {
   "cell_type": "code",
   "execution_count": 11,
   "metadata": {},
   "outputs": [
    {
     "data": {
      "image/png": "[encoded data removed]",
      "text/plain": [
       "Graphics object consisting of 21 graphics primitives"
      ]
     },
     "execution_count": 11,
     "metadata": {},
     "output_type": "execute_result"
    }
   ],
   "source": [
    "#coordenadas\n",
    "V = [(4,6), (0,3), (2,1), (3,0), (5,2), (6,5)]\n",
    "#segmentos\n",
    "E = [(1,2), (1,3), (1,4), (1,5), (1,6), \n",
    "     (2,6), (2,5), (2,4), \n",
    "     (3,6), (3,5),\n",
    "     (4,6)\n",
    "    ]\n",
    "for i in range(len(E)):\n",
    "    (a,b) = E[i]\n",
    "    E[i] = (a-1, b-1)\n",
    "\n",
    "G = D(V,E)\n",
    "G_v = G.vertices()\n",
    "for v in G_v:\n",
    "    (a,b) = v\n",
    "    #print(a+1,b+1)\n",
    "    \n",
    "G.plot()"
   ]
  },
  {
   "cell_type": "code",
   "execution_count": 12,
   "metadata": {},
   "outputs": [
    {
     "name": "stderr",
     "output_type": "stream",
     "text": [
      "/usr/lib/python3/dist-packages/sage/plot/graphics.py:2327: MatplotlibDeprecationWarning: \n",
      "The OldScalarFormatter class was deprecated in Matplotlib 3.3 and will be removed two minor releases later.\n",
      "  x_formatter = OldScalarFormatter()\n",
      "/usr/lib/python3/dist-packages/sage/plot/graphics.py:2352: MatplotlibDeprecationWarning: \n",
      "The OldScalarFormatter class was deprecated in Matplotlib 3.3 and will be removed two minor releases later.\n",
      "  y_formatter = OldScalarFormatter()\n"
     ]
    },
    {
     "data": {
      "image/png": "[encoded data removed]",
      "text/plain": [
       "Graphics object consisting of 1 graphics primitive"
      ]
     },
     "execution_count": 12,
     "metadata": {},
     "output_type": "execute_result"
    }
   ],
   "source": [
    "import numpy\n",
    "point([(4,6), (0,3), (2,1), (3,0), (5,2), (6,5)])"
   ]
  },
  {
   "cell_type": "code",
   "execution_count": 13,
   "metadata": {},
   "outputs": [
    {
     "data": {
      "text/plain": [
       "<generator object GraphGenerators.triangulations at 0x7f7f45edf9e0>"
      ]
     },
     "execution_count": 13,
     "metadata": {},
     "output_type": "execute_result"
    }
   ],
   "source": [
    "graphs.triangulations(4)"
   ]
  },
  {
   "cell_type": "code",
   "execution_count": 14,
   "metadata": {},
   "outputs": [],
   "source": [
    "G = Graph({\"e1\": [\"e4\",\"e5\"],})"
   ]
  },
  {
   "cell_type": "code",
   "execution_count": 15,
   "metadata": {},
   "outputs": [
    {
     "data": {
      "text/plain": [
       "<generator object GenericGraph.neighbor_iterator at 0x7f7f45b9df90>"
      ]
     },
     "execution_count": 15,
     "metadata": {},
     "output_type": "execute_result"
    }
   ],
   "source": [
    "G.neighbor_iterator(1)"
   ]
  },
  {
   "cell_type": "code",
   "execution_count": 16,
   "metadata": {},
   "outputs": [],
   "source": [
    "from collections import deque\n",
    " \n",
    "def adyacency_pairs(G):\n",
    "    def print_pairs_dfs(v):\n",
    "        stack = deque()\n",
    "        stack.append(v)\n",
    "        while stack:\n",
    "            v = stack.pop()\n",
    "            visited[v] = True\n",
    "            for w in G.neighbor_iterator(v):\n",
    "                if not visited[w]:\n",
    "                    pairs.append((v,w))\n",
    "                    stack.append(w)\n",
    "\n",
    "    pairs = deque()\n",
    "    #vertices 0 ... (n-1)\n",
    "    n = len(G.vertices())\n",
    "    #stack = deque()\n",
    "    visited = [False] * n\n",
    "    for v in G.vertices():\n",
    "        if (not visited[v]):\n",
    "            print_pairs_dfs(v)\n",
    "            \n",
    "    return pairs    "
   ]
  },
  {
   "cell_type": "code",
   "execution_count": 17,
   "metadata": {},
   "outputs": [],
   "source": [
    "def is_harmonious(G, coloring):\n",
    "    S = set()\n",
    "    pairs = adyacency_pairs(G)\n",
    "    for (v,w) in pairs:\n",
    "        c_v = coloring[v]\n",
    "        c_w = coloring[w]\n",
    "        if c_w != c_v and (not (frozenset((c_v, c_w)) in S)):\n",
    "            S.add(frozenset((c_v, c_w)))\n",
    "        else:\n",
    "            return False\n",
    "    return True"
   ]
  },
  {
   "cell_type": "code",
   "execution_count": null,
   "metadata": {},
   "outputs": [],
   "source": []
  },
  {
   "cell_type": "code",
   "execution_count": 18,
   "metadata": {},
   "outputs": [
    {
     "ename": "IndexError",
     "evalue": "list index out of range",
     "output_type": "error",
     "traceback": [
      "\u001b[0;31m---------------------------------------------------------------------------\u001b[0m",
      "\u001b[0;31mIndexError\u001b[0m                                Traceback (most recent call last)",
      "\u001b[0;32m<ipython-input-18-7fe5bbfe01e6>\u001b[0m in \u001b[0;36m<module>\u001b[0;34m\u001b[0m\n\u001b[1;32m     11\u001b[0m \u001b[0;34m\u001b[0m\u001b[0m\n\u001b[1;32m     12\u001b[0m \u001b[0mG_\u001b[0m \u001b[0;34m=\u001b[0m \u001b[0mG\u001b[0m\u001b[0;34m.\u001b[0m\u001b[0mrelabel\u001b[0m\u001b[0;34m(\u001b[0m\u001b[0mlabels\u001b[0m\u001b[0;34m,\u001b[0m \u001b[0minplace\u001b[0m\u001b[0;34m=\u001b[0m\u001b[0;32mFalse\u001b[0m\u001b[0;34m)\u001b[0m\u001b[0;34m\u001b[0m\u001b[0;34m\u001b[0m\u001b[0m\n\u001b[0;32m---> 13\u001b[0;31m \u001b[0madyacency_pairs\u001b[0m\u001b[0;34m(\u001b[0m\u001b[0mG_\u001b[0m\u001b[0;34m)\u001b[0m\u001b[0;34m\u001b[0m\u001b[0;34m\u001b[0m\u001b[0m\n\u001b[0m",
      "\u001b[0;32m<ipython-input-16-b4fa133470bf>\u001b[0m in \u001b[0;36madyacency_pairs\u001b[0;34m(G)\u001b[0m\n\u001b[1;32m     20\u001b[0m     \u001b[0;32mfor\u001b[0m \u001b[0mv\u001b[0m \u001b[0;32min\u001b[0m \u001b[0mG\u001b[0m\u001b[0;34m.\u001b[0m\u001b[0mvertices\u001b[0m\u001b[0;34m(\u001b[0m\u001b[0;34m)\u001b[0m\u001b[0;34m:\u001b[0m\u001b[0;34m\u001b[0m\u001b[0;34m\u001b[0m\u001b[0m\n\u001b[1;32m     21\u001b[0m         \u001b[0;32mif\u001b[0m \u001b[0;34m(\u001b[0m\u001b[0;32mnot\u001b[0m \u001b[0mvisited\u001b[0m\u001b[0;34m[\u001b[0m\u001b[0mv\u001b[0m\u001b[0;34m]\u001b[0m\u001b[0;34m)\u001b[0m\u001b[0;34m:\u001b[0m\u001b[0;34m\u001b[0m\u001b[0;34m\u001b[0m\u001b[0m\n\u001b[0;32m---> 22\u001b[0;31m             \u001b[0mprint_pairs_dfs\u001b[0m\u001b[0;34m(\u001b[0m\u001b[0mv\u001b[0m\u001b[0;34m)\u001b[0m\u001b[0;34m\u001b[0m\u001b[0;34m\u001b[0m\u001b[0m\n\u001b[0m\u001b[1;32m     23\u001b[0m \u001b[0;34m\u001b[0m\u001b[0m\n\u001b[1;32m     24\u001b[0m     \u001b[0;32mreturn\u001b[0m \u001b[0mpairs\u001b[0m\u001b[0;34m\u001b[0m\u001b[0;34m\u001b[0m\u001b[0m\n",
      "\u001b[0;32m<ipython-input-16-b4fa133470bf>\u001b[0m in \u001b[0;36mprint_pairs_dfs\u001b[0;34m(v)\u001b[0m\n\u001b[1;32m      9\u001b[0m             \u001b[0mvisited\u001b[0m\u001b[0;34m[\u001b[0m\u001b[0mv\u001b[0m\u001b[0;34m]\u001b[0m \u001b[0;34m=\u001b[0m \u001b[0;32mTrue\u001b[0m\u001b[0;34m\u001b[0m\u001b[0;34m\u001b[0m\u001b[0m\n\u001b[1;32m     10\u001b[0m             \u001b[0;32mfor\u001b[0m \u001b[0mw\u001b[0m \u001b[0;32min\u001b[0m \u001b[0mG\u001b[0m\u001b[0;34m.\u001b[0m\u001b[0mneighbor_iterator\u001b[0m\u001b[0;34m(\u001b[0m\u001b[0mv\u001b[0m\u001b[0;34m)\u001b[0m\u001b[0;34m:\u001b[0m\u001b[0;34m\u001b[0m\u001b[0;34m\u001b[0m\u001b[0m\n\u001b[0;32m---> 11\u001b[0;31m                 \u001b[0;32mif\u001b[0m \u001b[0;32mnot\u001b[0m \u001b[0mvisited\u001b[0m\u001b[0;34m[\u001b[0m\u001b[0mw\u001b[0m\u001b[0;34m]\u001b[0m\u001b[0;34m:\u001b[0m\u001b[0;34m\u001b[0m\u001b[0;34m\u001b[0m\u001b[0m\n\u001b[0m\u001b[1;32m     12\u001b[0m                     \u001b[0mpairs\u001b[0m\u001b[0;34m.\u001b[0m\u001b[0mappend\u001b[0m\u001b[0;34m(\u001b[0m\u001b[0;34m(\u001b[0m\u001b[0mv\u001b[0m\u001b[0;34m,\u001b[0m\u001b[0mw\u001b[0m\u001b[0;34m)\u001b[0m\u001b[0;34m)\u001b[0m\u001b[0;34m\u001b[0m\u001b[0;34m\u001b[0m\u001b[0m\n\u001b[1;32m     13\u001b[0m                     \u001b[0mstack\u001b[0m\u001b[0;34m.\u001b[0m\u001b[0mappend\u001b[0m\u001b[0;34m(\u001b[0m\u001b[0mw\u001b[0m\u001b[0;34m)\u001b[0m\u001b[0;34m\u001b[0m\u001b[0;34m\u001b[0m\u001b[0m\n",
      "\u001b[0;31mIndexError\u001b[0m: list index out of range"
     ]
    }
   ],
   "source": [
    "labels = {\"e1\":0,\n",
    "               \"e2\":1,\n",
    "               \"e3\":2,\n",
    "               \"e4\":3,\n",
    "               \"e5\":4,\n",
    "               \"e6\":5,\n",
    "               \"e7\":6,\n",
    "               \"e8\":7,\n",
    "               \"e9\":8,\n",
    "               \"e10\":9}\n",
    "\n",
    "G_ = G.relabel(labels, inplace=False)\n",
    "adyacency_pairs(G_)"
   ]
  },
  {
   "cell_type": "code",
   "execution_count": 19,
   "metadata": {},
   "outputs": [],
   "source": [
    "G = Graph({\"e1\":[\"e4\",\"e5\",\"e10\"],\n",
    "\"e2\":[\"e3\",\"e4\",\"e9\"],\n",
    "\"e3\":[\"e2\",\"e7\",\"e5\"],\n",
    "\"e4\":[\"e2\",\"e1\",\"e8\"],\n",
    "\"e5\":[\"e3\",\"e1\",\"e6\"],\n",
    "\"e6\":[\"e5\"],\n",
    "\"e7\":[\"e3\"],\n",
    "\"e8\":[\"e4\"],\n",
    "\"e9\":[\"e2\"],\n",
    "\"e10\":[\"e1\"]})"
   ]
  },
  {
   "cell_type": "code",
   "execution_count": 20,
   "metadata": {},
   "outputs": [],
   "source": [
    "def find_coloring(G, n_colors, labels=dict()):\n",
    "    #labels_inv = {v: k for k, v in labels.items()}\n",
    "    V = G.vertices()\n",
    "    if (not labels):\n",
    "        print(\"is dict()\")\n",
    "        labels = {V[i]:i for i in range(len(V))}\n",
    "        \n",
    "    G_ = G.relabel(labels, inplace=False)\n",
    "    n_colors = tuple([i for i in range(1, n_colors+1)])\n",
    "    c = find_coloring_h(G_, n_colors)\n",
    "    return c\n",
    "\n",
    "def find_coloring_h(G, color_list):\n",
    "    for coloring in it.product(color_list,repeat=len(G.vertices())):\n",
    "        if (is_harmonious(G, coloring)):\n",
    "            return coloring\n",
    "    return ()"
   ]
  },
  {
   "cell_type": "code",
   "execution_count": 21,
   "metadata": {},
   "outputs": [
    {
     "ename": "IndentationError",
     "evalue": "unexpected indent (<ipython-input-21-8adcc932056a>, line 2)",
     "output_type": "error",
     "traceback": [
      "\u001b[0;36m  File \u001b[0;32m\"<ipython-input-21-8adcc932056a>\"\u001b[0;36m, line \u001b[0;32m2\u001b[0m\n\u001b[0;31m    {\"e1\":Integer(0),\u001b[0m\n\u001b[0m    ^\u001b[0m\n\u001b[0;31mIndentationError\u001b[0m\u001b[0;31m:\u001b[0m unexpected indent\n"
     ]
    }
   ],
   "source": [
    "#find_coloring(G, \n",
    "              {\"e1\":0,\n",
    "               \"e2\":1,\n",
    "               \"e3\":2,\n",
    "               \"e4\":3,\n",
    "               \"e5\":4,\n",
    "               \"e6\":5,\n",
    "               \"e7\":6,\n",
    "               \"e8\":7,\n",
    "               \"e9\":8,\n",
    "               \"e10\":9})"
   ]
  },
  {
   "cell_type": "code",
   "execution_count": 22,
   "metadata": {},
   "outputs": [],
   "source": [
    "#P_5 = Graph([(\"e5\", \"e4^2\"), (\"e4^2\", \"e6\"), (\"e6\",\"e5^2\"),(\"e5^2\", \"e4\"),(\"e4\",\"e6^2\"), (\"e1\", \"e4\"), (\"e1\", \"e4^2\"), (\"e2\", \"e5\"), (\"e2\", \"e5^2\"), (\"e3\", \"e6\"),(\"e3\",\"e6^2\")])#"
   ]
  },
  {
   "cell_type": "code",
   "execution_count": 23,
   "metadata": {},
   "outputs": [
    {
     "ename": "NameError",
     "evalue": "name 'P_5' is not defined",
     "output_type": "error",
     "traceback": [
      "\u001b[0;31m---------------------------------------------------------------------------\u001b[0m",
      "\u001b[0;31mNameError\u001b[0m                                 Traceback (most recent call last)",
      "\u001b[0;32m<ipython-input-23-e64026101947>\u001b[0m in \u001b[0;36m<module>\u001b[0;34m\u001b[0m\n\u001b[0;32m----> 1\u001b[0;31m P_5.relabel({\"e1\":Integer(0),\n\u001b[0m\u001b[1;32m      2\u001b[0m              \u001b[0;34m\"e2\"\u001b[0m\u001b[0;34m:\u001b[0m\u001b[0mInteger\u001b[0m\u001b[0;34m(\u001b[0m\u001b[0;36m1\u001b[0m\u001b[0;34m)\u001b[0m\u001b[0;34m,\u001b[0m\u001b[0;34m\u001b[0m\u001b[0;34m\u001b[0m\u001b[0m\n\u001b[1;32m      3\u001b[0m              \u001b[0;34m\"e3\"\u001b[0m\u001b[0;34m:\u001b[0m\u001b[0mInteger\u001b[0m\u001b[0;34m(\u001b[0m\u001b[0;36m2\u001b[0m\u001b[0;34m)\u001b[0m\u001b[0;34m,\u001b[0m\u001b[0;34m\u001b[0m\u001b[0;34m\u001b[0m\u001b[0m\n\u001b[1;32m      4\u001b[0m              \u001b[0;34m\"e4\"\u001b[0m\u001b[0;34m:\u001b[0m\u001b[0mInteger\u001b[0m\u001b[0;34m(\u001b[0m\u001b[0;36m3\u001b[0m\u001b[0;34m)\u001b[0m\u001b[0;34m,\u001b[0m\u001b[0;34m\u001b[0m\u001b[0;34m\u001b[0m\u001b[0m\n\u001b[1;32m      5\u001b[0m              \u001b[0;34m\"e5\"\u001b[0m\u001b[0;34m:\u001b[0m\u001b[0mInteger\u001b[0m\u001b[0;34m(\u001b[0m\u001b[0;36m4\u001b[0m\u001b[0;34m)\u001b[0m\u001b[0;34m,\u001b[0m\u001b[0;34m\u001b[0m\u001b[0;34m\u001b[0m\u001b[0m\n",
      "\u001b[0;31mNameError\u001b[0m: name 'P_5' is not defined"
     ]
    }
   ],
   "source": [
    "P_5.relabel({\"e1\":0,\n",
    "             \"e2\":1,\n",
    "             \"e3\":2,\n",
    "             \"e4\":3,\n",
    "             \"e5\":4,\n",
    "             \"e6\":5,\n",
    "             \"e4^2\":6,\n",
    "             \"e5^2\":7,\n",
    "             \"e6^2\":8,\n",
    "            },\n",
    "           inplace=True)"
   ]
  },
  {
   "cell_type": "code",
   "execution_count": 24,
   "metadata": {},
   "outputs": [
    {
     "ename": "NameError",
     "evalue": "name 'P_5' is not defined",
     "output_type": "error",
     "traceback": [
      "\u001b[0;31m---------------------------------------------------------------------------\u001b[0m",
      "\u001b[0;31mNameError\u001b[0m                                 Traceback (most recent call last)",
      "\u001b[0;32m/tmp/ipykernel_2423/933527583.py\u001b[0m in \u001b[0;36m<module>\u001b[0;34m\u001b[0m\n\u001b[0;32m----> 1\u001b[0;31m \u001b[0;32mfor\u001b[0m \u001b[0mcoloring\u001b[0m \u001b[0;32min\u001b[0m \u001b[0mit\u001b[0m\u001b[0;34m.\u001b[0m\u001b[0mproduct\u001b[0m\u001b[0;34m(\u001b[0m\u001b[0;34m(\u001b[0m\u001b[0mInteger\u001b[0m\u001b[0;34m(\u001b[0m\u001b[0;36m4\u001b[0m\u001b[0;34m)\u001b[0m\u001b[0;34m,\u001b[0m\u001b[0mInteger\u001b[0m\u001b[0;34m(\u001b[0m\u001b[0;36m5\u001b[0m\u001b[0;34m)\u001b[0m\u001b[0;34m,\u001b[0m\u001b[0mInteger\u001b[0m\u001b[0;34m(\u001b[0m\u001b[0;36m6\u001b[0m\u001b[0;34m)\u001b[0m\u001b[0;34m,\u001b[0m\u001b[0mInteger\u001b[0m\u001b[0;34m(\u001b[0m\u001b[0;36m7\u001b[0m\u001b[0;34m)\u001b[0m\u001b[0;34m,\u001b[0m\u001b[0mInteger\u001b[0m\u001b[0;34m(\u001b[0m\u001b[0;36m8\u001b[0m\u001b[0;34m)\u001b[0m\u001b[0;34m)\u001b[0m\u001b[0;34m,\u001b[0m \u001b[0mrepeat\u001b[0m \u001b[0;34m=\u001b[0m \u001b[0mlen\u001b[0m\u001b[0;34m(\u001b[0m\u001b[0mP_5\u001b[0m\u001b[0;34m.\u001b[0m\u001b[0mvertices\u001b[0m\u001b[0;34m(\u001b[0m\u001b[0;34m)\u001b[0m\u001b[0;34m)\u001b[0m \u001b[0;34m-\u001b[0m \u001b[0mInteger\u001b[0m\u001b[0;34m(\u001b[0m\u001b[0;36m3\u001b[0m\u001b[0;34m)\u001b[0m\u001b[0;34m)\u001b[0m\u001b[0;34m:\u001b[0m\u001b[0;34m\u001b[0m\u001b[0;34m\u001b[0m\u001b[0m\n\u001b[0m\u001b[1;32m      2\u001b[0m     \u001b[0;32mif\u001b[0m \u001b[0;34m(\u001b[0m\u001b[0mis_harmonious\u001b[0m\u001b[0;34m(\u001b[0m\u001b[0mP_5\u001b[0m\u001b[0;34m,\u001b[0m \u001b[0;34m(\u001b[0m\u001b[0mInteger\u001b[0m\u001b[0;34m(\u001b[0m\u001b[0;36m1\u001b[0m\u001b[0;34m)\u001b[0m\u001b[0;34m,\u001b[0m\u001b[0mInteger\u001b[0m\u001b[0;34m(\u001b[0m\u001b[0;36m2\u001b[0m\u001b[0;34m)\u001b[0m\u001b[0;34m,\u001b[0m\u001b[0mInteger\u001b[0m\u001b[0;34m(\u001b[0m\u001b[0;36m3\u001b[0m\u001b[0;34m)\u001b[0m\u001b[0;34m)\u001b[0m \u001b[0;34m+\u001b[0m \u001b[0mcoloring\u001b[0m\u001b[0;34m)\u001b[0m\u001b[0;34m)\u001b[0m\u001b[0;34m:\u001b[0m\u001b[0;34m\u001b[0m\u001b[0;34m\u001b[0m\u001b[0m\n\u001b[1;32m      3\u001b[0m         \u001b[0mprint\u001b[0m\u001b[0;34m(\u001b[0m\u001b[0;34m(\u001b[0m\u001b[0mInteger\u001b[0m\u001b[0;34m(\u001b[0m\u001b[0;36m1\u001b[0m\u001b[0;34m)\u001b[0m\u001b[0;34m,\u001b[0m\u001b[0mInteger\u001b[0m\u001b[0;34m(\u001b[0m\u001b[0;36m2\u001b[0m\u001b[0;34m)\u001b[0m\u001b[0;34m,\u001b[0m\u001b[0mInteger\u001b[0m\u001b[0;34m(\u001b[0m\u001b[0;36m3\u001b[0m\u001b[0;34m)\u001b[0m\u001b[0;34m)\u001b[0m\u001b[0;34m+\u001b[0m\u001b[0mcoloring\u001b[0m\u001b[0;34m)\u001b[0m\u001b[0;34m\u001b[0m\u001b[0;34m\u001b[0m\u001b[0m\n\u001b[1;32m      4\u001b[0m         \u001b[0;32mbreak\u001b[0m\u001b[0;34m\u001b[0m\u001b[0;34m\u001b[0m\u001b[0m\n\u001b[1;32m      5\u001b[0m \u001b[0;34m\u001b[0m\u001b[0m\n",
      "\u001b[0;31mNameError\u001b[0m: name 'P_5' is not defined"
     ]
    }
   ],
   "source": [
    "#for coloring in it.product((4,5,6,7,8), repeat = len(P_5.vertices()) - 3):\n",
    "#    if (is_harmonious(P_5, (1,2,3) + coloring)):\n",
    "#        print((1,2,3)+coloring)\n",
    "#        break\n",
    "    "
   ]
  },
  {
   "cell_type": "code",
   "execution_count": 24,
   "metadata": {},
   "outputs": [
    {
     "name": "stdout",
     "output_type": "stream",
     "text": [
      "is dict()\n"
     ]
    },
    {
     "ename": "KeyboardInterrupt",
     "evalue": "",
     "output_type": "error",
     "traceback": [
      "\u001b[0;31m---------------------------------------------------------------------------\u001b[0m",
      "\u001b[0;31mKeyboardInterrupt\u001b[0m                         Traceback (most recent call last)",
      "\u001b[0;32m<ipython-input-24-01133e765911>\u001b[0m in \u001b[0;36m<module>\u001b[0;34m\u001b[0m\n\u001b[1;32m      3\u001b[0m \u001b[0mE\u001b[0m \u001b[0;34m=\u001b[0m \u001b[0;34m[\u001b[0m\u001b[0;34m(\u001b[0m\u001b[0mi\u001b[0m\u001b[0;34m,\u001b[0m\u001b[0mj\u001b[0m\u001b[0;34m)\u001b[0m \u001b[0;32mfor\u001b[0m \u001b[0mi\u001b[0m \u001b[0;32min\u001b[0m \u001b[0mrange\u001b[0m\u001b[0;34m(\u001b[0m\u001b[0mInteger\u001b[0m\u001b[0;34m(\u001b[0m\u001b[0;36m5\u001b[0m\u001b[0;34m)\u001b[0m\u001b[0;34m)\u001b[0m \u001b[0;32mfor\u001b[0m \u001b[0mj\u001b[0m \u001b[0;32min\u001b[0m \u001b[0mrange\u001b[0m\u001b[0;34m(\u001b[0m\u001b[0mi\u001b[0m\u001b[0;34m+\u001b[0m\u001b[0mInteger\u001b[0m\u001b[0;34m(\u001b[0m\u001b[0;36m1\u001b[0m\u001b[0;34m)\u001b[0m\u001b[0;34m,\u001b[0m \u001b[0mInteger\u001b[0m\u001b[0;34m(\u001b[0m\u001b[0;36m5\u001b[0m\u001b[0;34m)\u001b[0m\u001b[0;34m)\u001b[0m\u001b[0;34m]\u001b[0m\u001b[0;34m\u001b[0m\u001b[0;34m\u001b[0m\u001b[0m\n\u001b[1;32m      4\u001b[0m \u001b[0mG\u001b[0m \u001b[0;34m=\u001b[0m \u001b[0mD\u001b[0m\u001b[0;34m(\u001b[0m\u001b[0mV\u001b[0m\u001b[0;34m,\u001b[0m\u001b[0mE\u001b[0m\u001b[0;34m)\u001b[0m\u001b[0;34m\u001b[0m\u001b[0;34m\u001b[0m\u001b[0m\n\u001b[0;32m----> 5\u001b[0;31m \u001b[0mfind_coloring\u001b[0m\u001b[0;34m(\u001b[0m\u001b[0mG\u001b[0m\u001b[0;34m,\u001b[0m \u001b[0mInteger\u001b[0m\u001b[0;34m(\u001b[0m\u001b[0;36m5\u001b[0m\u001b[0;34m)\u001b[0m\u001b[0;34m)\u001b[0m\u001b[0;34m\u001b[0m\u001b[0;34m\u001b[0m\u001b[0m\n\u001b[0m",
      "\u001b[0;32m<ipython-input-20-ea8223fd76e1>\u001b[0m in \u001b[0;36mfind_coloring\u001b[0;34m(G, n_colors, labels)\u001b[0m\n\u001b[1;32m      8\u001b[0m     \u001b[0mG_\u001b[0m \u001b[0;34m=\u001b[0m \u001b[0mG\u001b[0m\u001b[0;34m.\u001b[0m\u001b[0mrelabel\u001b[0m\u001b[0;34m(\u001b[0m\u001b[0mlabels\u001b[0m\u001b[0;34m,\u001b[0m \u001b[0minplace\u001b[0m\u001b[0;34m=\u001b[0m\u001b[0;32mFalse\u001b[0m\u001b[0;34m)\u001b[0m\u001b[0;34m\u001b[0m\u001b[0;34m\u001b[0m\u001b[0m\n\u001b[1;32m      9\u001b[0m     \u001b[0mn_colors\u001b[0m \u001b[0;34m=\u001b[0m \u001b[0mtuple\u001b[0m\u001b[0;34m(\u001b[0m\u001b[0;34m[\u001b[0m\u001b[0mi\u001b[0m \u001b[0;32mfor\u001b[0m \u001b[0mi\u001b[0m \u001b[0;32min\u001b[0m \u001b[0mrange\u001b[0m\u001b[0;34m(\u001b[0m\u001b[0mInteger\u001b[0m\u001b[0;34m(\u001b[0m\u001b[0;36m1\u001b[0m\u001b[0;34m)\u001b[0m\u001b[0;34m,\u001b[0m \u001b[0mn_colors\u001b[0m\u001b[0;34m+\u001b[0m\u001b[0mInteger\u001b[0m\u001b[0;34m(\u001b[0m\u001b[0;36m1\u001b[0m\u001b[0;34m)\u001b[0m\u001b[0;34m)\u001b[0m\u001b[0;34m]\u001b[0m\u001b[0;34m)\u001b[0m\u001b[0;34m\u001b[0m\u001b[0;34m\u001b[0m\u001b[0m\n\u001b[0;32m---> 10\u001b[0;31m     \u001b[0mc\u001b[0m \u001b[0;34m=\u001b[0m \u001b[0mfind_coloring_h\u001b[0m\u001b[0;34m(\u001b[0m\u001b[0mG_\u001b[0m\u001b[0;34m,\u001b[0m \u001b[0mn_colors\u001b[0m\u001b[0;34m)\u001b[0m\u001b[0;34m\u001b[0m\u001b[0;34m\u001b[0m\u001b[0m\n\u001b[0m\u001b[1;32m     11\u001b[0m     \u001b[0;32mreturn\u001b[0m \u001b[0mc\u001b[0m\u001b[0;34m\u001b[0m\u001b[0;34m\u001b[0m\u001b[0m\n\u001b[1;32m     12\u001b[0m \u001b[0;34m\u001b[0m\u001b[0m\n",
      "\u001b[0;32m<ipython-input-20-ea8223fd76e1>\u001b[0m in \u001b[0;36mfind_coloring_h\u001b[0;34m(G, color_list)\u001b[0m\n\u001b[1;32m     13\u001b[0m \u001b[0;32mdef\u001b[0m \u001b[0mfind_coloring_h\u001b[0m\u001b[0;34m(\u001b[0m\u001b[0mG\u001b[0m\u001b[0;34m,\u001b[0m \u001b[0mcolor_list\u001b[0m\u001b[0;34m)\u001b[0m\u001b[0;34m:\u001b[0m\u001b[0;34m\u001b[0m\u001b[0;34m\u001b[0m\u001b[0m\n\u001b[1;32m     14\u001b[0m     \u001b[0;32mfor\u001b[0m \u001b[0mcoloring\u001b[0m \u001b[0;32min\u001b[0m \u001b[0mit\u001b[0m\u001b[0;34m.\u001b[0m\u001b[0mproduct\u001b[0m\u001b[0;34m(\u001b[0m\u001b[0mcolor_list\u001b[0m\u001b[0;34m,\u001b[0m\u001b[0mrepeat\u001b[0m\u001b[0;34m=\u001b[0m\u001b[0mlen\u001b[0m\u001b[0;34m(\u001b[0m\u001b[0mG\u001b[0m\u001b[0;34m.\u001b[0m\u001b[0mvertices\u001b[0m\u001b[0;34m(\u001b[0m\u001b[0;34m)\u001b[0m\u001b[0;34m)\u001b[0m\u001b[0;34m)\u001b[0m\u001b[0;34m:\u001b[0m\u001b[0;34m\u001b[0m\u001b[0;34m\u001b[0m\u001b[0m\n\u001b[0;32m---> 15\u001b[0;31m         \u001b[0;32mif\u001b[0m \u001b[0;34m(\u001b[0m\u001b[0mis_harmonious\u001b[0m\u001b[0;34m(\u001b[0m\u001b[0mG\u001b[0m\u001b[0;34m,\u001b[0m \u001b[0mcoloring\u001b[0m\u001b[0;34m)\u001b[0m\u001b[0;34m)\u001b[0m\u001b[0;34m:\u001b[0m\u001b[0;34m\u001b[0m\u001b[0;34m\u001b[0m\u001b[0m\n\u001b[0m\u001b[1;32m     16\u001b[0m             \u001b[0;32mreturn\u001b[0m \u001b[0mcoloring\u001b[0m\u001b[0;34m\u001b[0m\u001b[0;34m\u001b[0m\u001b[0m\n\u001b[1;32m     17\u001b[0m     \u001b[0;32mreturn\u001b[0m \u001b[0;34m(\u001b[0m\u001b[0;34m)\u001b[0m\u001b[0;34m\u001b[0m\u001b[0;34m\u001b[0m\u001b[0m\n",
      "\u001b[0;32m<ipython-input-17-03d879f26c13>\u001b[0m in \u001b[0;36mis_harmonious\u001b[0;34m(G, coloring)\u001b[0m\n\u001b[1;32m      1\u001b[0m \u001b[0;32mdef\u001b[0m \u001b[0mis_harmonious\u001b[0m\u001b[0;34m(\u001b[0m\u001b[0mG\u001b[0m\u001b[0;34m,\u001b[0m \u001b[0mcoloring\u001b[0m\u001b[0;34m)\u001b[0m\u001b[0;34m:\u001b[0m\u001b[0;34m\u001b[0m\u001b[0;34m\u001b[0m\u001b[0m\n\u001b[1;32m      2\u001b[0m     \u001b[0mS\u001b[0m \u001b[0;34m=\u001b[0m \u001b[0mset\u001b[0m\u001b[0;34m(\u001b[0m\u001b[0;34m)\u001b[0m\u001b[0;34m\u001b[0m\u001b[0;34m\u001b[0m\u001b[0m\n\u001b[0;32m----> 3\u001b[0;31m     \u001b[0mpairs\u001b[0m \u001b[0;34m=\u001b[0m \u001b[0madyacency_pairs\u001b[0m\u001b[0;34m(\u001b[0m\u001b[0mG\u001b[0m\u001b[0;34m)\u001b[0m\u001b[0;34m\u001b[0m\u001b[0;34m\u001b[0m\u001b[0m\n\u001b[0m\u001b[1;32m      4\u001b[0m     \u001b[0;32mfor\u001b[0m \u001b[0;34m(\u001b[0m\u001b[0mv\u001b[0m\u001b[0;34m,\u001b[0m\u001b[0mw\u001b[0m\u001b[0;34m)\u001b[0m \u001b[0;32min\u001b[0m \u001b[0mpairs\u001b[0m\u001b[0;34m:\u001b[0m\u001b[0;34m\u001b[0m\u001b[0;34m\u001b[0m\u001b[0m\n\u001b[1;32m      5\u001b[0m         \u001b[0mc_v\u001b[0m \u001b[0;34m=\u001b[0m \u001b[0mcoloring\u001b[0m\u001b[0;34m[\u001b[0m\u001b[0mv\u001b[0m\u001b[0;34m]\u001b[0m\u001b[0;34m\u001b[0m\u001b[0;34m\u001b[0m\u001b[0m\n",
      "\u001b[0;32m<ipython-input-16-b4fa133470bf>\u001b[0m in \u001b[0;36madyacency_pairs\u001b[0;34m(G)\u001b[0m\n\u001b[1;32m     18\u001b[0m     \u001b[0;31m#stack = deque()\u001b[0m\u001b[0;34m\u001b[0m\u001b[0;34m\u001b[0m\u001b[0;34m\u001b[0m\u001b[0m\n\u001b[1;32m     19\u001b[0m     \u001b[0mvisited\u001b[0m \u001b[0;34m=\u001b[0m \u001b[0;34m[\u001b[0m\u001b[0;32mFalse\u001b[0m\u001b[0;34m]\u001b[0m \u001b[0;34m*\u001b[0m \u001b[0mn\u001b[0m\u001b[0;34m\u001b[0m\u001b[0;34m\u001b[0m\u001b[0m\n\u001b[0;32m---> 20\u001b[0;31m     \u001b[0;32mfor\u001b[0m \u001b[0mv\u001b[0m \u001b[0;32min\u001b[0m \u001b[0mG\u001b[0m\u001b[0;34m.\u001b[0m\u001b[0mvertices\u001b[0m\u001b[0;34m(\u001b[0m\u001b[0;34m)\u001b[0m\u001b[0;34m:\u001b[0m\u001b[0;34m\u001b[0m\u001b[0;34m\u001b[0m\u001b[0m\n\u001b[0m\u001b[1;32m     21\u001b[0m         \u001b[0;32mif\u001b[0m \u001b[0;34m(\u001b[0m\u001b[0;32mnot\u001b[0m \u001b[0mvisited\u001b[0m\u001b[0;34m[\u001b[0m\u001b[0mv\u001b[0m\u001b[0;34m]\u001b[0m\u001b[0;34m)\u001b[0m\u001b[0;34m:\u001b[0m\u001b[0;34m\u001b[0m\u001b[0;34m\u001b[0m\u001b[0m\n\u001b[1;32m     22\u001b[0m             \u001b[0mprint_pairs_dfs\u001b[0m\u001b[0;34m(\u001b[0m\u001b[0mv\u001b[0m\u001b[0;34m)\u001b[0m\u001b[0;34m\u001b[0m\u001b[0;34m\u001b[0m\u001b[0m\n",
      "\u001b[0;32m/usr/lib/python3/dist-packages/sage/graphs/generic_graph.py\u001b[0m in \u001b[0;36mvertices\u001b[0;34m(self, sort, key)\u001b[0m\n\u001b[1;32m  10609\u001b[0m             \u001b[0;32mraise\u001b[0m \u001b[0mValueError\u001b[0m\u001b[0;34m(\u001b[0m\u001b[0;34m'sort keyword is False, yet a key function is given'\u001b[0m\u001b[0;34m)\u001b[0m\u001b[0;34m\u001b[0m\u001b[0;34m\u001b[0m\u001b[0m\n\u001b[1;32m  10610\u001b[0m         \u001b[0;32mif\u001b[0m \u001b[0msort\u001b[0m\u001b[0;34m:\u001b[0m\u001b[0;34m\u001b[0m\u001b[0;34m\u001b[0m\u001b[0m\n\u001b[0;32m> 10611\u001b[0;31m             \u001b[0;32mreturn\u001b[0m \u001b[0msorted\u001b[0m\u001b[0;34m(\u001b[0m\u001b[0mlist\u001b[0m\u001b[0;34m(\u001b[0m\u001b[0mself\u001b[0m\u001b[0;34m.\u001b[0m\u001b[0mvertex_iterator\u001b[0m\u001b[0;34m(\u001b[0m\u001b[0;34m)\u001b[0m\u001b[0;34m)\u001b[0m\u001b[0;34m,\u001b[0m \u001b[0mkey\u001b[0m\u001b[0;34m=\u001b[0m\u001b[0mkey\u001b[0m\u001b[0;34m)\u001b[0m\u001b[0;34m\u001b[0m\u001b[0;34m\u001b[0m\u001b[0m\n\u001b[0m\u001b[1;32m  10612\u001b[0m         \u001b[0;32mreturn\u001b[0m \u001b[0mlist\u001b[0m\u001b[0;34m(\u001b[0m\u001b[0mself\u001b[0m\u001b[0;34m.\u001b[0m\u001b[0mvertex_iterator\u001b[0m\u001b[0;34m(\u001b[0m\u001b[0;34m)\u001b[0m\u001b[0;34m)\u001b[0m\u001b[0;34m\u001b[0m\u001b[0;34m\u001b[0m\u001b[0m\n\u001b[1;32m  10613\u001b[0m \u001b[0;34m\u001b[0m\u001b[0m\n",
      "\u001b[0;32msrc/cysignals/signals.pyx\u001b[0m in \u001b[0;36mcysignals.signals.python_check_interrupt\u001b[0;34m()\u001b[0m\n",
      "\u001b[0;31mKeyboardInterrupt\u001b[0m: "
     ]
    }
   ],
   "source": [
    "#grafica n = 5 con |conv(G)| = 3\n",
    "V = [(0,0), (3,3), (5,0), (2,1), (4,2)]\n",
    "E = [(i,j) for i in range(5) for j in range(i+1, 5)]\n",
    "G = D(V,E)\n",
    "find_coloring(G, 5)"
   ]
  },
  {
   "cell_type": "code",
   "execution_count": 58,
   "metadata": {},
   "outputs": [],
   "source": [
    "#lee archivo \n",
    "import numpy as np\n",
    "\n",
    "def read_otypes(n):\n",
    "    with open(\"types/otypes{:02d}.b08\".format(n), \"r\") as f:\n",
    "        points_all = np.fromfile(f, dtype='>u1').astype(dtype=np.int32)\n",
    "        n_ot = len(points_all)//(n*2) #numero de order types\n",
    "        #print(n_ot)\n",
    "        points_set = []\n",
    "        graph_list = []\n",
    "        for i in range(n_ot):\n",
    "            points = []\n",
    "            for j in range(0, 2*n, 2):\n",
    "                points.append((points_all[i*(n*2) + j], points_all[i*(n*2) + j + 1]))\n",
    "        \n",
    "            E = [(a,b) for a in range(n) for b in range(a+1, n)]\n",
    "            #print(points)\n",
    "            G = D(points,E)\n",
    "            graph_list.append(G)\n",
    "            points_set.append(points)\n",
    "        return graph_list, points_set\n",
    "\n",
    "    \n",
    "def write_otypes_D(n, graph_list):\n",
    "    with open(\"types/adj_otypes{:02d}.in\".format(n), \"w\") as f:\n",
    "        print(\"{0} {1}\".format(n*(n-1)/2, len(graph_list)), file = f)\n",
    "        #relabel graph\n",
    "        for k in range(len(graph_list)):\n",
    "            V = graph_list[k].vertices()\n",
    "            labels = {V[i]: i+1 for i in range(len(V))}\n",
    "            graph_list[k].relabel(labels,inplace=True)\n",
    "            print(\"Graph {0}\".format(k+1), file = f)\n",
    "            for v in graph_list[k].vertex_iterator():\n",
    "                neighbors = graph_list[k].neighbors(v)\n",
    "                print(\"{} : {}\".format(v, \" \".join(map(str, neighbors)) ), file = f )\n",
    "    #f.close()\n",
    "n = 5\n",
    "graph_list, points_set = read_otypes(n)\n",
    "#write_otypes_D(n, graph_list)\n",
    "#print(points_set[1])\n",
    "\n",
    "#for i in range(0, n*(n-1)/2):\n",
    "    #for j in range(i+1, n):\n",
    "#        l = line([(points_set[2][i],points_set[2][j])])"
   ]
  },
  {
   "cell_type": "code",
   "execution_count": 68,
   "metadata": {},
   "outputs": [],
   "source": [
    "color_list = [(0, 0, 0),\n",
    "(1, 0, 103),\n",
    "(213 ,255 ,0),\n",
    "(255 ,0 ,86),\n",
    "(158 ,0 ,142),\n",
    "(14 ,76 ,161),\n",
    "(255 ,229 ,2),\n",
    "(0 ,95 ,57),\n",
    "(0 ,255 ,0),\n",
    "(149 ,0 ,58),\n",
    "(255 ,147 ,126),\n",
    "(164 ,36 ,0),\n",
    "(0 ,21 ,68),\n",
    "(145 ,208 ,203),\n",
    "(98 ,14 ,0),\n",
    "(107 ,104 ,130),\n",
    "(0 ,0 ,255),\n",
    "(0 ,125 ,181),\n",
    "(106 ,130 ,108),\n",
    "(0 ,174 ,126),\n",
    "(194 ,140 ,159),\n",
    "(190 ,153 ,112),\n",
    "(0 ,143 ,156),\n",
    "(95 ,173 ,78),\n",
    "(255 ,0 ,0),\n",
    "(255 ,0 ,246),\n",
    "(255 ,2 ,157),\n",
    "(104 ,61 ,59),\n",
    "(255 ,116 ,163),\n",
    "(150 ,138 ,232),\n",
    "(152 ,255 ,82),\n",
    "(167 ,87 ,64),\n",
    "(1 ,255 ,254),\n",
    "(255 ,238 ,232),\n",
    "(254 ,137 ,0),\n",
    "(189 ,198 ,255),\n",
    "(1 ,208 ,255),\n",
    "(187 ,136 ,0),\n",
    "(117 ,68 ,177),\n",
    "(165 ,255 ,210),\n",
    "(255 ,166 ,254),\n",
    "(119 ,77 ,0),\n",
    "(122 ,71 ,130),\n",
    "(38 ,52 ,0),\n",
    "(0 ,71 ,84),\n",
    "(67 ,0 ,44),\n",
    "(181 ,0 ,255),\n",
    "(255 ,177 ,103),\n",
    "(255 ,219 ,102),\n",
    "(144 ,251 ,146),\n",
    "(126 ,45 ,210),\n",
    "(189 ,211 ,147),\n",
    "(229 ,111 ,254),\n",
    "(222 ,255 ,116),\n",
    "(0 ,255 ,120),\n",
    "(0 ,155 ,255),\n",
    "(0 ,100 ,1),\n",
    "(0 ,118 ,255),\n",
    "(133 ,169 ,0),\n",
    "(0 ,185 ,23),\n",
    "(120 ,130 ,49),\n",
    "(0 ,255 ,198),\n",
    "(255 ,110 ,65),\n",
    "(232 ,94 ,190)]\n",
    "\n",
    "for i in range(len(color_list)):\n",
    "    (r,g,b) = color_list[i]\n",
    "    color_list[i] = (r/255, g/255, b/255)"
   ]
  },
  {
   "cell_type": "code",
   "execution_count": 69,
   "metadata": {},
   "outputs": [
    {
     "data": {
      "image/png": "[encoded data removed]",
      "text/plain": [
       "Graphics object consisting of 10 graphics primitives"
      ]
     },
     "execution_count": 69,
     "metadata": {},
     "output_type": "execute_result"
    }
   ],
   "source": [
    "def draw_points(p_set):\n",
    "    n = len(p_set)\n",
    "    line_arr = []\n",
    "    c = 0\n",
    "    for i in range(n):\n",
    "        for j in range(i+1, n):\n",
    "            line_arr.append(line([p_set[i], p_set[j]], rgbcolor=color_list[c]))\n",
    "            c += 1\n",
    "    \n",
    "    draw = line_arr[0]\n",
    "    for i in range(1, len(line_arr)):\n",
    "        draw += line_arr[i]\n",
    "\n",
    "    return draw\n",
    "\n",
    "draw_points(points_set[0])\n"
   ]
  },
  {
   "cell_type": "code",
   "execution_count": 162,
   "metadata": {},
   "outputs": [],
   "source": [
    "def read_colorings(fname):\n",
    "    with open(fname, \"r\") as f:\n",
    "        i = 0\n",
    "        h = []\n",
    "        h_coloring = []\n",
    "        for line in f:\n",
    "            if (i % 5 == 0):\n",
    "                name = line\n",
    "            if (i % 5 == 1):\n",
    "                h_line = line\n",
    "                #print(h_line, end=\"\")\n",
    "                (_,h_val) = h_line.split(\"=\")\n",
    "                h_val = int(h_val)\n",
    "                h.append(h_val)\n",
    "            if (i % 5 == 2):\n",
    "                coloring = list(map(int, line.split()))\n",
    "                h_coloring.append(coloring)\n",
    "            if (i % 5 == 3):\n",
    "                diameter = line\n",
    "            if (i % 5 == 4):\n",
    "                None\n",
    "            i += 1\n",
    "        return h, h_coloring"
   ]
  },
  {
   "cell_type": "code",
   "execution_count": 163,
   "metadata": {},
   "outputs": [
    {
     "data": {
      "text/plain": [
       "([10, 12, 12, 13, 14, 13, 13, 13, 13, 13, 15, 15, 15, 14, 15, 13],\n",
       " [[1, 2, 3, 2, 4, 5, 6, 7, 3, 8, 2, 6, 9, 7, 10],\n",
       "  [1, 2, 3, 4, 5, 6, 7, 3, 7, 8, 9, 3, 10, 11, 12],\n",
       "  [1, 2, 3, 4, 5, 6, 7, 3, 7, 8, 9, 2, 10, 11, 12],\n",
       "  [1, 2, 3, 4, 5, 6, 7, 8, 7, 9, 3, 10, 11, 12, 13],\n",
       "  [1, 2, 3, 4, 5, 6, 7, 8, 9, 10, 2, 11, 12, 13, 14],\n",
       "  [1, 2, 3, 4, 5, 6, 7, 8, 2, 9, 3, 10, 11, 12, 13],\n",
       "  [1, 2, 3, 4, 5, 6, 7, 8, 2, 9, 2, 10, 11, 12, 13],\n",
       "  [1, 2, 3, 2, 4, 5, 6, 7, 7, 8, 9, 10, 11, 12, 13],\n",
       "  [1, 2, 3, 2, 4, 5, 6, 7, 7, 8, 9, 10, 11, 12, 13],\n",
       "  [1, 2, 3, 4, 5, 6, 7, 3, 2, 8, 9, 10, 11, 12, 13],\n",
       "  [1, 2, 3, 4, 5, 6, 7, 8, 9, 10, 11, 12, 13, 14, 15],\n",
       "  [1, 2, 3, 4, 5, 6, 7, 8, 9, 10, 11, 12, 13, 14, 15],\n",
       "  [1, 2, 3, 4, 5, 6, 7, 8, 9, 10, 11, 12, 13, 14, 15],\n",
       "  [1, 2, 3, 4, 5, 6, 7, 2, 8, 9, 10, 11, 12, 13, 14],\n",
       "  [1, 2, 3, 4, 5, 6, 7, 8, 9, 10, 11, 12, 13, 14, 15],\n",
       "  [1, 2, 3, 4, 5, 6, 7, 3, 8, 9, 10, 3, 11, 12, 13]])"
      ]
     },
     "execution_count": 163,
     "metadata": {},
     "output_type": "execute_result"
    }
   ],
   "source": [
    "read_colorings(\"Harmonious-coloring/results/adj_otypes06.out\")"
   ]
  },
  {
   "cell_type": "code",
   "execution_count": 253,
   "metadata": {},
   "outputs": [
    {
     "data": {
      "text/plain": [
       "840"
      ]
     },
     "execution_count": 253,
     "metadata": {},
     "output_type": "execute_result"
    }
   ],
   "source": []
  },
  {
   "cell_type": "code",
   "execution_count": 269,
   "metadata": {},
   "outputs": [
    {
     "name": "stdout",
     "output_type": "stream",
     "text": [
      "h(D(K_10) <= 36\n",
      "h(D(K_10) >= 30\n"
     ]
    }
   ],
   "source": []
  },
  {
   "cell_type": "code",
   "execution_count": 257,
   "metadata": {},
   "outputs": [
    {
     "data": {
      "text/plain": [
       "171"
      ]
     },
     "execution_count": 257,
     "metadata": {},
     "output_type": "execute_result"
    }
   ],
   "source": []
  },
  {
   "cell_type": "code",
   "execution_count": 4,
   "metadata": {},
   "outputs": [
    {
     "data": {
      "text/plain": [
       "0"
      ]
     },
     "execution_count": 4,
     "metadata": {},
     "output_type": "execute_result"
    }
   ],
   "source": [
    "\n"
   ]
  },
  {
   "cell_type": "code",
   "execution_count": 6,
   "metadata": {},
   "outputs": [
    {
     "data": {
      "text/plain": [
       "True"
      ]
     },
     "execution_count": 6,
     "metadata": {},
     "output_type": "execute_result"
    }
   ],
   "source": []
  },
  {
   "cell_type": "code",
   "execution_count": 13,
   "metadata": {},
   "outputs": [
    {
     "data": {
      "text/plain": [
       "1"
      ]
     },
     "execution_count": 13,
     "metadata": {},
     "output_type": "execute_result"
    }
   ],
   "source": []
  },
  {
   "cell_type": "code",
   "execution_count": 122,
   "metadata": {},
   "outputs": [],
   "source": []
  },
  {
   "cell_type": "code",
   "execution_count": 127,
   "metadata": {},
   "outputs": [
    {
     "data": {
      "text/plain": [
       "1"
      ]
     },
     "execution_count": 127,
     "metadata": {},
     "output_type": "execute_result"
    }
   ],
   "source": []
  },
  {
   "cell_type": "code",
   "execution_count": null,
   "metadata": {},
   "outputs": [],
   "source": []
  }
 ],
 "metadata": {
  "kernelspec": {
   "display_name": "SageMath 9.0",
   "language": "sage",
   "name": "sagemath"
  },
  "language_info": {
   "codemirror_mode": {
    "name": "ipython",
    "version": 3
   },
   "file_extension": ".py",
   "mimetype": "text/x-python",
   "name": "python",
   "nbconvert_exporter": "python",
   "pygments_lexer": "ipython3",
   "version": "3.8.10"
  }
 },
 "nbformat": 4,
 "nbformat_minor": 4
}
