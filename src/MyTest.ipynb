{
 "cells": [
  {
   "cell_type": "code",
   "execution_count": 12,
   "id": "ddb4c7f1-17b6-4e62-b2ff-d7e7ca2f7de0",
   "metadata": {},
   "outputs": [],
   "source": [
    "import gcolorings"
   ]
  },
  {
   "cell_type": "code",
   "execution_count": 7,
   "id": "46dc03eb-cefc-4600-880f-334bebf434e1",
   "metadata": {},
   "outputs": [
    {
     "data": {
      "text/plain": [
       "<module 'gcolorings' (<_frozen_importlib_external._NamespaceLoader object at 0x7f8854993580>)>"
      ]
     },
     "execution_count": 7,
     "metadata": {},
     "output_type": "execute_result"
    }
   ],
   "source": [
    "gcolorings"
   ]
  },
  {
   "cell_type": "code",
   "execution_count": 9,
   "id": "2e4ec90b-1bda-4404-9b84-f9b56dc1cb0a",
   "metadata": {},
   "outputs": [
    {
     "ename": "NameError",
     "evalue": "name 'read_colorings' is not defined",
     "output_type": "error",
     "traceback": [
      "\u001b[0;31m---------------------------------------------------------------------------\u001b[0m",
      "\u001b[0;31mNameError\u001b[0m                                 Traceback (most recent call last)",
      "Cell \u001b[0;32mIn[9], line 3\u001b[0m\n\u001b[1;32m      1\u001b[0m n \u001b[38;5;241m=\u001b[39m Integer(\u001b[38;5;241m6\u001b[39m)\n\u001b[1;32m      2\u001b[0m k \u001b[38;5;241m=\u001b[39m Integer(\u001b[38;5;241m10\u001b[39m)\n\u001b[0;32m----> 3\u001b[0m h_D, coloring5_D \u001b[38;5;241m=\u001b[39m \u001b[43mread_colorings\u001b[49m(\u001b[38;5;124m\"\u001b[39m\u001b[38;5;124mHarmonious-coloring/results/adj_otypes06.out\u001b[39m\u001b[38;5;124m\"\u001b[39m)\n\u001b[1;32m      4\u001b[0m points_set \u001b[38;5;241m=\u001b[39m read_otypes(n)\n\u001b[1;32m      5\u001b[0m graph_list_D \u001b[38;5;241m=\u001b[39m map_A(n, points_set, D)\n",
      "\u001b[0;31mNameError\u001b[0m: name 'read_colorings' is not defined"
     ]
    }
   ],
   "source": [
    "n = 6\n",
    "k = 10\n",
    "h_D, coloring5_D = read_colorings(\"Harmonious-coloring/results/adj_otypes06.out\")\n",
    "points_set = read_otypes(n)\n",
    "graph_list_D = map_A(n, points_set, D)\n",
    "print(h_D[k])\n",
    "draw_points(points_set[k], coloring5_D[k]).plot()"
   ]
  },
  {
   "cell_type": "code",
   "execution_count": 7,
   "id": "d9374972-6011-4bde-8433-b2e82f63ef20",
   "metadata": {},
   "outputs": [
    {
     "data": {
      "text/plain": [
       "<function draw_points at 0x7fe9164b91b0>"
      ]
     },
     "execution_count": 7,
     "metadata": {},
     "output_type": "execute_result"
    }
   ],
   "source": [
    "draw_points"
   ]
  },
  {
   "cell_type": "code",
   "execution_count": null,
   "id": "74382947-a843-4f82-b8c4-6cb8c594dde8",
   "metadata": {},
   "outputs": [],
   "source": []
  }
 ],
 "metadata": {
  "kernelspec": {
   "display_name": "SageMath 9.5",
   "language": "sage",
   "name": "sagemath"
  },
  "language_info": {
   "codemirror_mode": {
    "name": "ipython",
    "version": 3
   },
   "file_extension": ".py",
   "mimetype": "text/x-python",
   "name": "python",
   "nbconvert_exporter": "python",
   "pygments_lexer": "ipython3",
   "version": "3.10.7"
  }
 },
 "nbformat": 4,
 "nbformat_minor": 5
}
