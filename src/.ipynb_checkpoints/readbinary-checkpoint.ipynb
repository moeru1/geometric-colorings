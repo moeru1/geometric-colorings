{
 "cells": [
  {
   "cell_type": "code",
   "execution_count": 5,
   "id": "9739eb43",
   "metadata": {},
   "outputs": [],
   "source": [
    "import numpy as np\n",
    "\n",
    "b = np.fromfile(\"/home/moeru/pruebas/3to9/3_3_All_bool.ths\", dtype=np.uint16)\n"
   ]
  },
  {
   "cell_type": "code",
   "execution_count": 7,
   "id": "943c2d96",
   "metadata": {},
   "outputs": [
    {
     "name": "stdout",
     "output_type": "stream",
     "text": [
      "256\n",
      "257\n"
     ]
    }
   ],
   "source": [
    "for n in b:\n",
    "    print(n)"
   ]
  },
  {
   "cell_type": "code",
   "execution_count": 1,
   "id": "4773a30d",
   "metadata": {},
   "outputs": [],
   "source": [
    "import gcolorings"
   ]
  },
  {
   "cell_type": "code",
   "execution_count": 2,
   "id": "80a35753",
   "metadata": {},
   "outputs": [
    {
     "ename": "AttributeError",
     "evalue": "module 'gcolorings' has no attribute 'asociadas'",
     "output_type": "error",
     "traceback": [
      "\u001b[0;31m---------------------------------------------------------------------------\u001b[0m",
      "\u001b[0;31mAttributeError\u001b[0m                            Traceback (most recent call last)",
      "Cell \u001b[0;32mIn[2], line 1\u001b[0m\n\u001b[0;32m----> 1\u001b[0m \u001b[43mgcolorings\u001b[49m\u001b[38;5;241;43m.\u001b[39;49m\u001b[43masociadas\u001b[49m\u001b[38;5;241m.\u001b[39mD_Kn(\u001b[38;5;241m3\u001b[39m)\n",
      "\u001b[0;31mAttributeError\u001b[0m: module 'gcolorings' has no attribute 'asociadas'"
     ]
    }
   ],
   "source": [
    "gcolorings.asociadas.D_Kn(3)"
   ]
  },
  {
   "cell_type": "code",
   "execution_count": null,
   "id": "b66f83d5-1a79-4224-8857-b061bc972e6d",
   "metadata": {},
   "outputs": [],
   "source": []
  }
 ],
 "metadata": {
  "kernelspec": {
   "display_name": "Python 3 (ipykernel)",
   "language": "python",
   "name": "python3"
  },
  "language_info": {
   "codemirror_mode": {
    "name": "ipython",
    "version": 3
   },
   "file_extension": ".py",
   "mimetype": "text/x-python",
   "name": "python",
   "nbconvert_exporter": "python",
   "pygments_lexer": "ipython3",
   "version": "3.10.7"
  }
 },
 "nbformat": 4,
 "nbformat_minor": 5
}
