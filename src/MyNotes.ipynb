{
 "cells": [
  {
   "cell_type": "code",
   "execution_count": 10,
   "id": "33cb0783-150e-449b-b3a1-5fb37800423c",
   "metadata": {},
   "outputs": [
    {
     "data": {
      "text/plain": [
       "<module 'gcolorings.parse_files' from '/home/moeru/geometric-colorings/src/gcolorings/parse_files.py'>"
      ]
     },
     "execution_count": 10,
     "metadata": {},
     "output_type": "execute_result"
    }
   ],
   "source": [
    "from gcolorings import asociadas, parse_files\n",
    "asociadas.D_Kn(4)\n"
   ]
  },
  {
   "cell_type": "code",
   "execution_count": 18,
   "id": "74238f6e-e672-4819-96f1-80e6b94b5950",
   "metadata": {},
   "outputs": [
    {
     "data": {
      "text/plain": [
       "158817"
      ]
     },
     "execution_count": 18,
     "metadata": {},
     "output_type": "execute_result"
    }
   ],
   "source": [
    "o = parse_files.OTypesIO()\n",
    "otype = o.read_otype(9)\n",
    "len(otype)"
   ]
  },
  {
   "cell_type": "code",
   "execution_count": 21,
   "id": "5854258c-2d10-4f43-993e-0bb8d3de927e",
   "metadata": {},
   "outputs": [
    {
     "data": {
      "text/plain": [
       "3315"
      ]
     },
     "execution_count": 21,
     "metadata": {},
     "output_type": "execute_result"
    }
   ],
   "source": [
    "len(o.read_otype(8))\n",
    "\n",
    "I find it’s less about actually forgetting and more about all the mundane details I usually bounce around a codebase to find. What’s the third argument to that function again? Oh, copilot autocompleted it correctly.\n",
    "\n",
    "It’s not always right but it’s right enough it’s a big timesaver. "
   ]
  },
  {
   "cell_type": "code",
   "execution_count": null,
   "id": "77b89a34-10cf-41b2-985b-e7032dffe68d",
   "metadata": {},
   "outputs": [],
   "source": []
  }
 ],
 "metadata": {
  "kernelspec": {
   "display_name": "SageMath 9.5",
   "language": "sage",
   "name": "sagemath"
  },
  "language_info": {
   "codemirror_mode": {
    "name": "ipython",
    "version": 3
   },
   "file_extension": ".py",
   "mimetype": "text/x-python",
   "name": "python",
   "nbconvert_exporter": "python",
   "pygments_lexer": "ipython3",
   "version": "3.10.7"
  }
 },
 "nbformat": 4,
 "nbformat_minor": 5
}
