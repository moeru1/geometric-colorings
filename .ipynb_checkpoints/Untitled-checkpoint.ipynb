{
 "cells": [
  {
   "cell_type": "code",
   "execution_count": 19,
   "metadata": {},
   "outputs": [],
   "source": [
    "import itertools as it"
   ]
  },
  {
   "cell_type": "code",
   "execution_count": 23,
   "metadata": {},
   "outputs": [
    {
     "data": {
      "text/plain": [
       "9765625"
      ]
     },
     "execution_count": 23,
     "metadata": {},
     "output_type": "execute_result"
    }
   ],
   "source": [
    "def digit(c):\n",
    "    return char(c)"
   ]
  },
  {
   "cell_type": "code",
   "execution_count": 153,
   "metadata": {},
   "outputs": [],
   "source": [
    "#gráfica K_n  con vértice del 0 a n-1\n",
    "def D_Kn(n):\n",
    "    def edge_lbl(i, j):\n",
    "        return \"v\"+ str(i) +\" - \" + \"v\" + str(j)\n",
    "        #return frozenset((i,j))\n",
    "    \n",
    "    def edges_comb(i, j, lb, ub, DG):\n",
    "        edge1_lbl = edge_lbl(i,j)\n",
    "        for l in range(lb, ub+1):\n",
    "            for u in range(l+1, ub+1):\n",
    "                DG.add_edge(edge1_lbl, edge_lbl(l,u))\n",
    "\n",
    "    def right(i, j, n, DG):\n",
    "        #lb = min((i+1) % n, (j-1) % n)\n",
    "        #ub = max((i+1) % n, (j-1) % n)\n",
    "        edge1_lbl = edge_lbl(i,j)\n",
    "        for k in range(1, j-i):\n",
    "            for m in range(k+1, j-i):\n",
    "                a = min((i+k)%n, (i+m)%n)\n",
    "                b = max((i+k)%n, (i+m)%n)\n",
    "                DG.add_edge(edge1_lbl, edge_lbl(a, b))\n",
    "        #edges_comb(i, j, lb, ub, DG)\n",
    "\n",
    "    def left(i, j, n, DG):\n",
    "        edge1_lbl = edge_lbl(i,j)\n",
    "        for k in range(1, (n-2) - (j-i-1) + 1):\n",
    "            for m in range(k+1, (n-2) - (j-i-1) + 1):\n",
    "                a = min((j+k)%n, (j+m)%n)\n",
    "                b = max((j+k)%n, (j+m)%n)\n",
    "                DG.add_edge(edge1_lbl, edge_lbl(a, b))\n",
    "        #lb = min((j+1) % n, (i-1) % n)\n",
    "        #ub = max((j+1) % n, (i-1) % n)\n",
    "        #print(\"i j:\", i, j)\n",
    "        #print(\"lb ub:\", lb, ub)\n",
    "        #edges_comb(i, j, lb, ub, DG)\n",
    "\n",
    "    DG = Graph()\n",
    "    for v in range(n):\n",
    "        for w in range(v+1,n):\n",
    "            DG.add_vertex(edge_lbl(v,w))\n",
    "    \n",
    "    #cierre convexo\n",
    "    for i in range(n-1):\n",
    "        left(i, i+1, n, DG)\n",
    "    \n",
    "    for j in range(2, n-1):\n",
    "        left(0, j, n, DG)\n",
    "        right(0, j, n, DG)\n",
    "        \n",
    "    for i in range(1, n):\n",
    "        for j in range(i+2,n):\n",
    "            #right\n",
    "            #si no está el lado derecho vacio\n",
    "            #if ((i+1)%n - (j-1)%n)%n > 1:\n",
    "            right(i, j, n, DG)\n",
    "            \n",
    "            #left\n",
    "            left(i, j, n, DG)\n",
    "    return DG"
   ]
  },
  {
   "cell_type": "code",
   "execution_count": 154,
   "metadata": {},
   "outputs": [
    {
     "data": {
      "text/plain": [
       "2"
      ]
     },
     "execution_count": 154,
     "metadata": {},
     "output_type": "execute_result"
    }
   ],
   "source": [
    "W = D_Kn(15)\n",
    "W.plot()\n",
    "W.diameter()"
   ]
  },
  {
   "cell_type": "code",
   "execution_count": 1,
   "metadata": {},
   "outputs": [],
   "source": [
    "#class Edge(frozenset):\n",
    "#    def __init__(self, v, w):\n",
    "#        super().__init__((v,w))\n",
    "    \n",
    "#    def __str__(self):\n",
    "#        (v,w) = super()\n",
    "#        return \"{\" + str(v)+ \",\"+ str(w) +\"}\"\n",
    "    \n",
    "#    def __repr__(self):\n",
    "#        (v,w) = super()\n",
    "#        return \"{\" + str(v)+ \",\"+ str(w) +\"}\"\n",
    "def Edge(v, w):\n",
    "    return frozenset((v,w))\n",
    "\n",
    "def orientation(p, q, r):\n",
    "    (px, py) = p\n",
    "    (qx, qy) = q\n",
    "    (rx, ry) = r\n",
    "    a = qx-px\n",
    "    b = rx-px\n",
    "    c = qy-py\n",
    "    d = ry-py\n",
    "    return a*d-b*c\n",
    "\n",
    "\n",
    "def ccw(a,b,c):\n",
    "    (ax, ay) = a\n",
    "    (bx, by) = b\n",
    "    (cx, cy) = c\n",
    "    return (cy-ay) * (bx-ax) > (by-ay) * (cx-ax)\n",
    "\n",
    "# Return true if line segments AB and CD intersect\n",
    "def intersect(s1, s2):\n",
    "    (a, b) = s1\n",
    "    (c, d) = s2\n",
    "    return ccw(a,c,d) != ccw(b,c,d) and ccw(a,b,c) != ccw(a,b,d)\n",
    "\n",
    "# def intersect(s1, s2):\n",
    "#     (p, q) = s1\n",
    "#     (a, b) = s2\n",
    "#     return (orientation(p, q, a) != orientation(p, q, b)) and \\\n",
    "#            (orientation(a, b, p) != orientation(a, b, q))\n",
    "\n",
    "def ady(e1, e2):\n",
    "    (a, b) = e1\n",
    "    (c, d) = e2\n",
    "    #print(e1, e2)\n",
    "    return a == c or a == d or b == c or b == d\n",
    "\n",
    "def D(V, E):\n",
    "    DG = Graph()\n",
    "    m = len(E)\n",
    "    E_set = set(E)\n",
    "    for i in range(m):\n",
    "        for j in range(i+1, m):\n",
    "            #print(E[i])\n",
    "            #print(E[j])\n",
    "            s1 = (V[E[i][0]], V[E[i][1]])\n",
    "            s2 = (V[E[j][0]], V[E[j][1]])\n",
    "            #print(s1, s2)\n",
    "            if intersect(s1, s2) or ady(E[i], E[j]):\n",
    "                DG.add_edge(E[i], E[j])\n",
    "    return DG.complement()\n",
    "            "
   ]
  },
  {
   "cell_type": "code",
   "execution_count": 5,
   "metadata": {},
   "outputs": [
    {
     "name": "stdout",
     "output_type": "stream",
     "text": [
      "(0, 1) (0, 2)\n",
      "(0, 1) (0, 3)\n",
      "(0, 1) (0, 4)\n",
      "(0, 1) (0, 5)\n",
      "(0, 1) (2, 5)\n",
      "(0, 1) (2, 4)\n",
      "(0, 1) (3, 5)\n",
      "(0, 2) (0, 3)\n",
      "(0, 2) (0, 4)\n",
      "(0, 2) (0, 5)\n",
      "(0, 2) (3, 5)\n",
      "(0, 3) (0, 4)\n",
      "(0, 3) (0, 5)\n",
      "(0, 3) (1, 3)\n",
      "(0, 4) (0, 5)\n",
      "(0, 4) (1, 4)\n",
      "(0, 4) (1, 3)\n",
      "(0, 4) (2, 4)\n",
      "(0, 5) (1, 5)\n",
      "(0, 5) (1, 4)\n",
      "(0, 5) (1, 3)\n",
      "(0, 5) (2, 5)\n",
      "(0, 5) (2, 4)\n",
      "(0, 5) (3, 5)\n",
      "(1, 5) (1, 4)\n",
      "(1, 5) (1, 3)\n",
      "(1, 5) (2, 5)\n",
      "(1, 5) (2, 4)\n",
      "(1, 5) (3, 5)\n",
      "(1, 4) (1, 3)\n",
      "(1, 4) (2, 4)\n",
      "(2, 5) (2, 4)\n",
      "(2, 5) (3, 5)\n"
     ]
    },
    {
     "data": {
      "image/png": "[encoded data removed]",
      "text/plain": [
       "Graphics object consisting of 21 graphics primitives"
      ]
     },
     "execution_count": 5,
     "metadata": {},
     "output_type": "execute_result"
    }
   ],
   "source": [
    "#coordenadas\n",
    "V = [(4,6), (0,3), (2,1), (3,0), (5,2), (6,5)]\n",
    "#segmentos\n",
    "E = [(1,2), (1,3), (1,4), (1,5), (1,6), \n",
    "     (2,6), (2,5), (2,4), \n",
    "     (3,6), (3,5),\n",
    "     (4,6)\n",
    "    ]\n",
    "for i in range(len(E)):\n",
    "    (a,b) = E[i]\n",
    "    E[i] = (a-1, b-1)\n",
    "\n",
    "G = D(V,E)\n",
    "G_v = G.vertices()\n",
    "for v in G_v:\n",
    "    (a,b) = v\n",
    "    #print(a+1,b+1)\n",
    "    \n",
    "G.plot()"
   ]
  },
  {
   "cell_type": "code",
   "execution_count": 4,
   "metadata": {},
   "outputs": [
    {
     "name": "stderr",
     "output_type": "stream",
     "text": [
      "/usr/lib/python3/dist-packages/sage/plot/graphics.py:2327: MatplotlibDeprecationWarning: \n",
      "The OldScalarFormatter class was deprecated in Matplotlib 3.3 and will be removed two minor releases later.\n",
      "  x_formatter = OldScalarFormatter()\n",
      "/usr/lib/python3/dist-packages/sage/plot/graphics.py:2352: MatplotlibDeprecationWarning: \n",
      "The OldScalarFormatter class was deprecated in Matplotlib 3.3 and will be removed two minor releases later.\n",
      "  y_formatter = OldScalarFormatter()\n"
     ]
    },
    {
     "data": {
      "image/png": "[encoded data removed]",
      "text/plain": [
       "Graphics object consisting of 1 graphics primitive"
      ]
     },
     "execution_count": 4,
     "metadata": {},
     "output_type": "execute_result"
    }
   ],
   "source": [
    "import numpy\n",
    "point([(4,6), (0,3), (2,1), (3,0), (5,2), (6,5)])"
   ]
  },
  {
   "cell_type": "code",
   "execution_count": 111,
   "metadata": {},
   "outputs": [
    {
     "data": {
      "text/plain": [
       "<generator object GraphGenerators.triangulations at 0x7f6225dad970>"
      ]
     },
     "execution_count": 111,
     "metadata": {},
     "output_type": "execute_result"
    }
   ],
   "source": [
    "graphs.triangulations(4)"
   ]
  },
  {
   "cell_type": "code",
   "execution_count": 1,
   "metadata": {},
   "outputs": [],
   "source": [
    "G = Graph({\"e1\": [\"e4\",\"e5\"],})"
   ]
  },
  {
   "cell_type": "code",
   "execution_count": 2,
   "metadata": {},
   "outputs": [
    {
     "data": {
      "text/plain": [
       "<generator object GenericGraph.neighbor_iterator at 0x7f622bbf8120>"
      ]
     },
     "execution_count": 2,
     "metadata": {},
     "output_type": "execute_result"
    }
   ],
   "source": [
    "G.neighbor_iterator(1)"
   ]
  },
  {
   "cell_type": "code",
   "execution_count": 147,
   "metadata": {},
   "outputs": [],
   "source": [
    "from collections import deque\n",
    " \n",
    "def adyacency_pairs(G):\n",
    "    def print_pairs_dfs(v):\n",
    "        stack = deque()\n",
    "        stack.append(v)\n",
    "        while stack:\n",
    "            v = stack.pop()\n",
    "            visited[v] = True\n",
    "            for w in G.neighbor_iterator(v):\n",
    "                if not visited[w]:\n",
    "                    pairs.append((v,w))\n",
    "                    stack.append(w)\n",
    "\n",
    "    pairs = deque()\n",
    "    #vertices 0 ... (n-1)\n",
    "    n = len(G.vertices())\n",
    "    #stack = deque()\n",
    "    visited = [False] * n\n",
    "    for v in G.vertices():\n",
    "        if (not visited[v]):\n",
    "            print_pairs_dfs(v)\n",
    "            \n",
    "    return pairs    "
   ]
  },
  {
   "cell_type": "code",
   "execution_count": 177,
   "metadata": {},
   "outputs": [],
   "source": [
    "def is_harmonious(G, coloring):\n",
    "    S = set()\n",
    "    pairs = adyacency_pairs(G)\n",
    "    for (v,w) in pairs:\n",
    "        c_v = coloring[v]\n",
    "        c_w = coloring[w]\n",
    "        if c_w != c_v and (not (frozenset((c_v, c_w)) in S)):\n",
    "            S.add(frozenset((c_v, c_w)))\n",
    "        else:\n",
    "            return False\n",
    "    return True"
   ]
  },
  {
   "cell_type": "code",
   "execution_count": 173,
   "metadata": {},
   "outputs": [
    {
     "data": {
      "text/plain": [
       "deque([(0, 9), (0, 3), (0, 4), (4, 2), (4, 5), (2, 1), (2, 6), (1, 8), (1, 3), (3, 7)])"
      ]
     },
     "execution_count": 173,
     "metadata": {},
     "output_type": "execute_result"
    }
   ],
   "source": [
    "labels = {\"e1\":0,\n",
    "               \"e2\":1,\n",
    "               \"e3\":2,\n",
    "               \"e4\":3,\n",
    "               \"e5\":4,\n",
    "               \"e6\":5,\n",
    "               \"e7\":6,\n",
    "               \"e8\":7,\n",
    "               \"e9\":8,\n",
    "               \"e10\":9}\n",
    "\n",
    "G_ = G.relabel(labels, inplace=False)\n",
    "adyacency_pairs(G_)"
   ]
  },
  {
   "cell_type": "code",
   "execution_count": 3,
   "metadata": {},
   "outputs": [],
   "source": [
    "G = Graph({\"e1\":[\"e4\",\"e5\",\"e10\"],\n",
    "\"e2\":[\"e3\",\"e4\",\"e9\"],\n",
    "\"e3\":[\"e2\",\"e7\",\"e5\"],\n",
    "\"e4\":[\"e2\",\"e1\",\"e8\"],\n",
    "\"e5\":[\"e3\",\"e1\",\"e6\"],\n",
    "\"e6\":[\"e5\"],\n",
    "\"e7\":[\"e3\"],\n",
    "\"e8\":[\"e4\"],\n",
    "\"e9\":[\"e2\"],\n",
    "\"e10\":[\"e1\"]})"
   ]
  },
  {
   "cell_type": "code",
   "execution_count": 175,
   "metadata": {},
   "outputs": [],
   "source": [
    "def find_coloring(G, labels=dict()):\n",
    "    #labels_inv = {v: k for k, v in labels.items()}\n",
    "    G_ = G.relabel(labels, inplace=False)\n",
    "    c = find_coloring_h(G_, (1,2,3,4,5,6))\n",
    "    return c\n",
    "\n",
    "def find_coloring_h(G, color_list):\n",
    "    for coloring in it.product(color_list,repeat=len(G.vertices())):\n",
    "        if (is_harmonious(G, coloring)):\n",
    "            return coloring\n",
    "    return ()"
   ]
  },
  {
   "cell_type": "code",
   "execution_count": 178,
   "metadata": {},
   "outputs": [
    {
     "data": {
      "text/plain": [
       "(1, 2, 3, 4, 5, 2, 1, 3, 1, 6)"
      ]
     },
     "execution_count": 178,
     "metadata": {},
     "output_type": "execute_result"
    }
   ],
   "source": [
    "find_coloring(G, \n",
    "              {\"e1\":0,\n",
    "               \"e2\":1,\n",
    "               \"e3\":2,\n",
    "               \"e4\":3,\n",
    "               \"e5\":4,\n",
    "               \"e6\":5,\n",
    "               \"e7\":6,\n",
    "               \"e8\":7,\n",
    "               \"e9\":8,\n",
    "               \"e10\":9})"
   ]
  },
  {
   "cell_type": "code",
   "execution_count": 75,
   "metadata": {},
   "outputs": [
    {
     "data": {
      "text/plain": [
       "[(1, 1), (1, 2), (1, 3), (2, 1), (2, 2), (2, 3), (3, 1), (3, 2), (3, 3)]"
      ]
     },
     "execution_count": 75,
     "metadata": {},
     "output_type": "execute_result"
    }
   ],
   "source": [
    "list(it.product((1,2,3), repeat=2))"
   ]
  },
  {
   "cell_type": "code",
   "execution_count": 125,
   "metadata": {},
   "outputs": [
    {
     "name": "stdout",
     "output_type": "stream",
     "text": [
      "(0, 1)\n",
      "(0, 4)\n",
      "(4, 3)\n",
      "(3, 2)\n",
      "(2, 1)\n"
     ]
    },
    {
     "data": {
      "image/png": "[encoded data removed]",
      "text/plain": [
       "Graphics object consisting of 11 graphics primitives"
      ]
     },
     "execution_count": 125,
     "metadata": {},
     "output_type": "execute_result"
    }
   ],
   "source": [
    "print_pairs(graphs.CycleGraph(5))\n",
    "graphs.CycleGraph(5).plot()"
   ]
  },
  {
   "cell_type": "code",
   "execution_count": 99,
   "metadata": {},
   "outputs": [
    {
     "name": "stdout",
     "output_type": "stream",
     "text": [
      "(0, 1)\n",
      "(0, 2)\n",
      "(0, 3)\n",
      "(0, 4)\n",
      "(1, 2)\n",
      "(1, 3)\n",
      "(1, 4)\n",
      "(2, 3)\n",
      "(2, 4)\n",
      "(3, 4)\n"
     ]
    }
   ],
   "source": [
    "for i in range(5):\n",
    "    for j in range(i+1,5):\n",
    "        print((i,j))"
   ]
  },
  {
   "cell_type": "code",
   "execution_count": 142,
   "metadata": {},
   "outputs": [],
   "source": [
    "a = []\n",
    "a.append(1)"
   ]
  },
  {
   "cell_type": "code",
   "execution_count": 154,
   "metadata": {},
   "outputs": [
    {
     "data": {
      "text/plain": [
       "False"
      ]
     },
     "execution_count": 154,
     "metadata": {},
     "output_type": "execute_result"
    }
   ],
   "source": [
    "S = set()\n",
    "S.add(1)\n",
    "not (1 in S)"
   ]
  },
  {
   "cell_type": "code",
   "execution_count": 113,
   "metadata": {},
   "outputs": [
    {
     "data": {
      "text/plain": [
       "1"
      ]
     },
     "execution_count": 113,
     "metadata": {},
     "output_type": "execute_result"
    }
   ],
   "source": [
    "(a,b) = (1,2)\n",
    "a"
   ]
  },
  {
   "cell_type": "code",
   "execution_count": 231,
   "metadata": {},
   "outputs": [],
   "source": [
    "def deg(i,j,n):\n",
    "    left = (abs(i-j)-1)\n",
    "    right = (n-2)-(abs(i-j)-1)\n",
    "    return (n*(n-1)/2) - 1 - left*right - (n-2)*2\n",
    "\n",
    "def sum_edges(n):\n",
    "    suma = 0\n",
    "    for i in range(n):\n",
    "        for j in range(i+1,n):\n",
    "            suma = suma + deg(i,j,n)\n",
    "    return suma"
   ]
  },
  {
   "cell_type": "code",
   "execution_count": 253,
   "metadata": {},
   "outputs": [
    {
     "data": {
      "text/plain": [
       "840"
      ]
     },
     "execution_count": 253,
     "metadata": {},
     "output_type": "execute_result"
    }
   ],
   "source": [
    "sum_edges(10)"
   ]
  },
  {
   "cell_type": "code",
   "execution_count": 269,
   "metadata": {},
   "outputs": [
    {
     "name": "stdout",
     "output_type": "stream",
     "text": [
      "h(D(K_10) <= 36\n",
      "h(D(K_10) >= 30\n"
     ]
    }
   ],
   "source": [
    "n = 10\n",
    "ub = n*(n-1)/2-n+1\n",
    "lb = math.ceil((1+math.sqrt(8*sum_edges(n)/2 + 1))/2)\n",
    "print(\"h(D(K_\"+str(n)+\") <=\", ub)\n",
    "print(\"h(D(K_\"+str(n)+\") >=\", lb)"
   ]
  },
  {
   "cell_type": "code",
   "execution_count": 257,
   "metadata": {},
   "outputs": [
    {
     "data": {
      "text/plain": [
       "171"
      ]
     },
     "execution_count": 257,
     "metadata": {},
     "output_type": "execute_result"
    }
   ],
   "source": [
    "def "
   ]
  },
  {
   "cell_type": "code",
   "execution_count": 4,
   "metadata": {},
   "outputs": [
    {
     "data": {
      "text/plain": [
       "0"
      ]
     },
     "execution_count": 4,
     "metadata": {},
     "output_type": "execute_result"
    }
   ],
   "source": [
    "G.add_vertex()\n"
   ]
  },
  {
   "cell_type": "code",
   "execution_count": 6,
   "metadata": {},
   "outputs": [
    {
     "data": {
      "text/plain": [
       "True"
      ]
     },
     "execution_count": 6,
     "metadata": {},
     "output_type": "execute_result"
    }
   ],
   "source": [
    "1 != 2\n"
   ]
  },
  {
   "cell_type": "code",
   "execution_count": 13,
   "metadata": {},
   "outputs": [
    {
     "data": {
      "text/plain": [
       "1"
      ]
     },
     "execution_count": 13,
     "metadata": {},
     "output_type": "execute_result"
    }
   ],
   "source": [
    "(9+1) % 9"
   ]
  },
  {
   "cell_type": "code",
   "execution_count": 122,
   "metadata": {},
   "outputs": [],
   "source": [
    "a = frozenset((1,2))"
   ]
  },
  {
   "cell_type": "code",
   "execution_count": 127,
   "metadata": {},
   "outputs": [
    {
     "data": {
      "text/plain": [
       "1"
      ]
     },
     "execution_count": 127,
     "metadata": {},
     "output_type": "execute_result"
    }
   ],
   "source": []
  },
  {
   "cell_type": "code",
   "execution_count": null,
   "metadata": {},
   "outputs": [],
   "source": []
  }
 ],
 "metadata": {
  "kernelspec": {
   "display_name": "SageMath 9.0",
   "language": "sage",
   "name": "sagemath"
  },
  "language_info": {
   "codemirror_mode": {
    "name": "ipython",
    "version": 3
   },
   "file_extension": ".py",
   "mimetype": "text/x-python",
   "name": "python",
   "nbconvert_exporter": "python",
   "pygments_lexer": "ipython3",
   "version": "3.8.10"
  }
 },
 "nbformat": 4,
 "nbformat_minor": 4
}
